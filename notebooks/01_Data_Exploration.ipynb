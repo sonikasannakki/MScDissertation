{
 "cells": [
  {
   "cell_type": "markdown",
   "id": "c77b7d42",
   "metadata": {},
   "source": [
    "# ***Data Exploration of MTS-Dialogue Training Data***"
   ]
  },
  {
   "cell_type": "code",
   "execution_count": 1,
   "id": "c5567e8b",
   "metadata": {},
   "outputs": [
    {
     "name": "stderr",
     "output_type": "stream",
     "text": [
      "/opt/anaconda3/envs/clinical-summarization/lib/python3.10/site-packages/tqdm/auto.py:21: TqdmWarning: IProgress not found. Please update jupyter and ipywidgets. See https://ipywidgets.readthedocs.io/en/stable/user_install.html\n",
      "  from .autonotebook import tqdm as notebook_tqdm\n"
     ]
    }
   ],
   "source": [
    "import torch\n",
    "import pandas as pd\n",
    "import transformers\n",
    "import platform\n",
    "import matplotlib.pyplot as plt\n",
    "import seaborn as sns"
   ]
  },
  {
   "cell_type": "code",
   "execution_count": 2,
   "id": "af592de6",
   "metadata": {},
   "outputs": [
    {
     "name": "stdout",
     "output_type": "stream",
     "text": [
      "Python Verison: 3.10.18\n",
      "PyTorch Version: 2.5.1\n",
      "Transformers Version: 4.55.0\n",
      "Using device: MPS (Apple Metal)\n"
     ]
    }
   ],
   "source": [
    "print(f\"Python Verison: {platform.python_version()}\")\n",
    "print(f\"PyTorch Version: {torch.__version__}\")\n",
    "print(f\"Transformers Version: {transformers.__version__}\")\n",
    "\n",
    "if torch.backends.mps.is_available():\n",
    "    device = torch.device(\"mps\")\n",
    "    print(\"Using device: MPS (Apple Metal)\")\n",
    "else:\n",
    "    device = torch.device(\"cpu\")\n",
    "    print(\"Using device: CPU\")"
   ]
  },
  {
   "cell_type": "code",
   "execution_count": 46,
   "id": "190fe67f",
   "metadata": {},
   "outputs": [
    {
     "name": "stdout",
     "output_type": "stream",
     "text": [
      "Dataset is loaded successfully. shape :- (1201, 4)\n",
      "first 5 rows of the training dataset :- \n"
     ]
    },
    {
     "data": {
      "text/html": [
       "<div>\n",
       "<style scoped>\n",
       "    .dataframe tbody tr th:only-of-type {\n",
       "        vertical-align: middle;\n",
       "    }\n",
       "\n",
       "    .dataframe tbody tr th {\n",
       "        vertical-align: top;\n",
       "    }\n",
       "\n",
       "    .dataframe thead th {\n",
       "        text-align: right;\n",
       "    }\n",
       "</style>\n",
       "<table border=\"1\" class=\"dataframe\">\n",
       "  <thead>\n",
       "    <tr style=\"text-align: right;\">\n",
       "      <th></th>\n",
       "      <th>ID</th>\n",
       "      <th>section_header</th>\n",
       "      <th>section_text</th>\n",
       "      <th>dialogue</th>\n",
       "    </tr>\n",
       "  </thead>\n",
       "  <tbody>\n",
       "    <tr>\n",
       "      <th>0</th>\n",
       "      <td>0</td>\n",
       "      <td>GENHX</td>\n",
       "      <td>The patient is a 76-year-old white female who ...</td>\n",
       "      <td>Doctor: What brings you back into the clinic t...</td>\n",
       "    </tr>\n",
       "    <tr>\n",
       "      <th>1</th>\n",
       "      <td>1</td>\n",
       "      <td>GENHX</td>\n",
       "      <td>The patient is a 25-year-old right-handed Cauc...</td>\n",
       "      <td>Doctor: How're you feeling today?  \\r\\nPatient...</td>\n",
       "    </tr>\n",
       "    <tr>\n",
       "      <th>2</th>\n",
       "      <td>2</td>\n",
       "      <td>GENHX</td>\n",
       "      <td>This is a 22-year-old female, who presented to...</td>\n",
       "      <td>Doctor: Hello, miss. What is the reason for yo...</td>\n",
       "    </tr>\n",
       "    <tr>\n",
       "      <th>3</th>\n",
       "      <td>3</td>\n",
       "      <td>MEDICATIONS</td>\n",
       "      <td>Prescribed medications were Salmeterol inhaler...</td>\n",
       "      <td>Doctor: Are you taking any over the counter me...</td>\n",
       "    </tr>\n",
       "    <tr>\n",
       "      <th>4</th>\n",
       "      <td>4</td>\n",
       "      <td>CC</td>\n",
       "      <td>Burn, right arm.</td>\n",
       "      <td>Doctor: Hi, how are you? \\r\\nPatient: I burned...</td>\n",
       "    </tr>\n",
       "  </tbody>\n",
       "</table>\n",
       "</div>"
      ],
      "text/plain": [
       "   ID section_header                                       section_text  \\\n",
       "0   0          GENHX  The patient is a 76-year-old white female who ...   \n",
       "1   1          GENHX  The patient is a 25-year-old right-handed Cauc...   \n",
       "2   2          GENHX  This is a 22-year-old female, who presented to...   \n",
       "3   3    MEDICATIONS  Prescribed medications were Salmeterol inhaler...   \n",
       "4   4             CC                                   Burn, right arm.   \n",
       "\n",
       "                                            dialogue  \n",
       "0  Doctor: What brings you back into the clinic t...  \n",
       "1  Doctor: How're you feeling today?  \\r\\nPatient...  \n",
       "2  Doctor: Hello, miss. What is the reason for yo...  \n",
       "3  Doctor: Are you taking any over the counter me...  \n",
       "4  Doctor: Hi, how are you? \\r\\nPatient: I burned...  "
      ]
     },
     "metadata": {},
     "output_type": "display_data"
    }
   ],
   "source": [
    "\n",
    "pd.set_option('display.max_columns',None) #display all the columns \n",
    "train_file_path = '../data/MTS-Dialog-TrainingSet.csv'\n",
    "\n",
    "#loding the training file..\n",
    "try:\n",
    "    df_train = pd.read_csv(train_file_path)\n",
    "    print(f\"Dataset is loaded successfully. shape :- {df_train.shape}\")\n",
    "    print(\"first 5 rows of the training dataset :- \")\n",
    "    display(df_train.head())\n",
    "except Exception as e :\n",
    "    print(f\"file is not found at {train_file_path}\")\n",
    "    raise e\n",
    "    "
   ]
  },
  {
   "cell_type": "code",
   "execution_count": 47,
   "id": "04a3410c",
   "metadata": {},
   "outputs": [
    {
     "name": "stdout",
     "output_type": "stream",
     "text": [
      "GENHX\n"
     ]
    }
   ],
   "source": [
    "print(df_train['section_header'][0])"
   ]
  },
  {
   "cell_type": "code",
   "execution_count": 48,
   "id": "eb0d8bcc",
   "metadata": {},
   "outputs": [
    {
     "name": "stdout",
     "output_type": "stream",
     "text": [
      "Doctor: What brings you back into the clinic today, miss? \n",
      "Patient: I came in for a refill of my blood pressure medicine. \n",
      "Doctor: It looks like Doctor Kumar followed up with you last time regarding your hypertension, osteoarthritis, osteoporosis, hypothyroidism, allergic rhinitis and kidney stones.  Have you noticed any changes or do you have any concerns regarding these issues?  \n",
      "Patient: No. \n",
      "Doctor: Have you had any fever or chills, cough, congestion, nausea, vomiting, chest pain, chest pressure?\n",
      "Patient: No.  \n",
      "Doctor: Great. Also, for our records, how old are you and what race do you identify yourself as?\n",
      "Patient: I am seventy six years old and identify as a white female.\n"
     ]
    }
   ],
   "source": [
    "print(df_train['dialogue'][0])"
   ]
  },
  {
   "cell_type": "code",
   "execution_count": 24,
   "id": "cbf102c7",
   "metadata": {},
   "outputs": [
    {
     "name": "stdout",
     "output_type": "stream",
     "text": [
      "Prescribed medications were Salmeterol inhaler, prn; and Fluticasone nasal inhaler. The patient was taking no over the counter or alternative medicines.\n"
     ]
    }
   ],
   "source": [
    "print(df_train['section_text'][3])"
   ]
  },
  {
   "cell_type": "code",
   "execution_count": 29,
   "id": "636a45b2",
   "metadata": {},
   "outputs": [
    {
     "name": "stdout",
     "output_type": "stream",
     "text": [
      "Dataset Information:- \n",
      "<class 'pandas.core.frame.DataFrame'>\n",
      "RangeIndex: 1201 entries, 0 to 1200\n",
      "Data columns (total 4 columns):\n",
      " #   Column          Non-Null Count  Dtype \n",
      "---  ------          --------------  ----- \n",
      " 0   ID              1201 non-null   int64 \n",
      " 1   section_header  1201 non-null   object\n",
      " 2   section_text    1201 non-null   object\n",
      " 3   dialogue        1201 non-null   object\n",
      "dtypes: int64(1), object(3)\n",
      "memory usage: 37.7+ KB\n"
     ]
    }
   ],
   "source": [
    "#basic information\n",
    "print(\"Dataset Information:- \")\n",
    "df_train.info()"
   ]
  },
  {
   "cell_type": "code",
   "execution_count": 30,
   "id": "5368d481",
   "metadata": {},
   "outputs": [
    {
     "name": "stdout",
     "output_type": "stream",
     "text": [
      "1201\n"
     ]
    }
   ],
   "source": [
    "print(len((df_train['ID'].unique())))"
   ]
  },
  {
   "cell_type": "code",
   "execution_count": 27,
   "id": "fd9dcb74",
   "metadata": {},
   "outputs": [
    {
     "name": "stdout",
     "output_type": "stream",
     "text": [
      "20\n"
     ]
    },
    {
     "data": {
      "text/plain": [
       "array(['GENHX', 'MEDICATIONS', 'CC', 'PASTMEDICALHX', 'ALLERGY',\n",
       "       'FAM/SOCHX', 'PASTSURGICAL', 'OTHER_HISTORY', 'ASSESSMENT', 'ROS',\n",
       "       'DISPOSITION', 'EXAM', 'PLAN', 'DIAGNOSIS', 'EDCOURSE',\n",
       "       'IMMUNIZATIONS', 'LABS', 'IMAGING', 'PROCEDURES', 'GYNHX'],\n",
       "      dtype=object)"
      ]
     },
     "execution_count": 27,
     "metadata": {},
     "output_type": "execute_result"
    }
   ],
   "source": [
    "print(len((df_train['section_header'].unique())))\n",
    "df_train['section_header'].unique()\n"
   ]
  },
  {
   "cell_type": "code",
   "execution_count": 43,
   "id": "07926dae",
   "metadata": {},
   "outputs": [
    {
     "name": "stdout",
     "output_type": "stream",
     "text": [
      "\n",
      "word count stats.. \n"
     ]
    },
    {
     "data": {
      "text/html": [
       "<div>\n",
       "<style scoped>\n",
       "    .dataframe tbody tr th:only-of-type {\n",
       "        vertical-align: middle;\n",
       "    }\n",
       "\n",
       "    .dataframe tbody tr th {\n",
       "        vertical-align: top;\n",
       "    }\n",
       "\n",
       "    .dataframe thead th {\n",
       "        text-align: right;\n",
       "    }\n",
       "</style>\n",
       "<table border=\"1\" class=\"dataframe\">\n",
       "  <thead>\n",
       "    <tr style=\"text-align: right;\">\n",
       "      <th></th>\n",
       "      <th>dialogue_word_count</th>\n",
       "      <th>section_text_word_count</th>\n",
       "    </tr>\n",
       "  </thead>\n",
       "  <tbody>\n",
       "    <tr>\n",
       "      <th>count</th>\n",
       "      <td>1201.000000</td>\n",
       "      <td>1201.000000</td>\n",
       "    </tr>\n",
       "    <tr>\n",
       "      <th>mean</th>\n",
       "      <td>105.691091</td>\n",
       "      <td>40.575354</td>\n",
       "    </tr>\n",
       "    <tr>\n",
       "      <th>std</th>\n",
       "      <td>117.638388</td>\n",
       "      <td>66.951583</td>\n",
       "    </tr>\n",
       "    <tr>\n",
       "      <th>min</th>\n",
       "      <td>6.000000</td>\n",
       "      <td>1.000000</td>\n",
       "    </tr>\n",
       "    <tr>\n",
       "      <th>25%</th>\n",
       "      <td>34.000000</td>\n",
       "      <td>5.000000</td>\n",
       "    </tr>\n",
       "    <tr>\n",
       "      <th>50%</th>\n",
       "      <td>64.000000</td>\n",
       "      <td>14.000000</td>\n",
       "    </tr>\n",
       "    <tr>\n",
       "      <th>75%</th>\n",
       "      <td>133.000000</td>\n",
       "      <td>45.000000</td>\n",
       "    </tr>\n",
       "    <tr>\n",
       "      <th>max</th>\n",
       "      <td>1509.000000</td>\n",
       "      <td>1020.000000</td>\n",
       "    </tr>\n",
       "  </tbody>\n",
       "</table>\n",
       "</div>"
      ],
      "text/plain": [
       "       dialogue_word_count  section_text_word_count\n",
       "count          1201.000000              1201.000000\n",
       "mean            105.691091                40.575354\n",
       "std             117.638388                66.951583\n",
       "min               6.000000                 1.000000\n",
       "25%              34.000000                 5.000000\n",
       "50%              64.000000                14.000000\n",
       "75%             133.000000                45.000000\n",
       "max            1509.000000              1020.000000"
      ]
     },
     "metadata": {},
     "output_type": "display_data"
    },
    {
     "name": "stdout",
     "output_type": "stream",
     "text": [
      "\n",
      "visualizing data distributions....\n"
     ]
    },
    {
     "data": {
      "image/png": "[encoded data removed]",
      "text/plain": [
       "<Figure size 1600x800 with 2 Axes>"
      ]
     },
     "metadata": {},
     "output_type": "display_data"
    }
   ],
   "source": [
    "#calculating the words counts on the original columns to understand the raw data \n",
    "df_train['dialogue_word_count'] = df_train['dialogue'].str.split().str.len()\n",
    "df_train['section_text_word_count'] = df_train['section_text'].str.split().str.len()\n",
    "\n",
    "print(\"\\nword count stats.. \")\n",
    "display(df_train[['dialogue_word_count', 'section_text_word_count']].describe())\n",
    "\n",
    "#visualizing the distributions.\n",
    "print(\"\\nvisualizing data distributions....\")\n",
    "sns.set_style('whitegrid')\n",
    "\n",
    "plt.figure(figsize=(16, 8))\n",
    "\n",
    "#plot for dialogue lengths..\n",
    "plt.subplot(1, 2, 1)\n",
    "sns.histplot(df_train['dialogue_word_count'], bins=50, color='royalblue', kde=True)\n",
    "plt.title('Distribution of Dialogue Lengths (Words)')\n",
    "plt.xlabel('word count')\n",
    "plt.ylabel('frequency')\n",
    "\n",
    "#plot for Section Text Lengths\n",
    "plt.subplot(1, 2, 2)\n",
    "sns.histplot(df_train['section_text_word_count'], bins=30, color='seagreen', kde=True)\n",
    "plt.title('Distribution of Section Text Lengths (Words)')\n",
    "plt.xlabel('word Count')\n",
    "plt.ylabel('frequency')\n",
    "\n",
    "\n",
    "\n",
    "plt.tight_layout()\n",
    "plt.show()"
   ]
  },
  {
   "cell_type": "code",
   "execution_count": null,
   "id": "8947854b",
   "metadata": {},
   "outputs": [],
   "source": []
  }
 ],
 "metadata": {
  "kernelspec": {
   "display_name": "clinical-summarization",
   "language": "python",
   "name": "python3"
  },
  "language_info": {
   "codemirror_mode": {
    "name": "ipython",
    "version": 3
   },
   "file_extension": ".py",
   "mimetype": "text/x-python",
   "name": "python",
   "nbconvert_exporter": "python",
   "pygments_lexer": "ipython3",
   "version": "3.10.18"
  }
 },
 "nbformat": 4,
 "nbformat_minor": 5
}
